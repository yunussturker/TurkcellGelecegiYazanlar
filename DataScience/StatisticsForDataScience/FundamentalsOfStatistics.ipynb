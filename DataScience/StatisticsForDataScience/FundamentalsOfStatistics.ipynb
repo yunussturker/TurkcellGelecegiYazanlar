{
 "cells": [
  {
   "cell_type": "markdown",
   "id": "7b5ff964-f4c7-4de5-a017-c00276a89266",
   "metadata": {},
   "source": [
    "##### Değerlerini deney sonuçlarından alan değişkene rassal değişken denir."
   ]
  },
  {
   "cell_type": "markdown",
   "id": "ac5e1cc3-8f28-4a7c-8805-9084e51361bb",
   "metadata": {},
   "source": [
    "##### Bernoulli dağılımı, olumlu-olumsuz(1-0) şeklinde iki sonuçlu olaylar ile ilgilenirken kullandığımız kesikli olasılık dağılımıdır."
   ]
  },
  {
   "cell_type": "markdown",
   "id": "d7985161-e889-49c3-be2a-f7f110f4a03c",
   "metadata": {},
   "source": [
    "${\\displaystyle f(k;p)=p^{k}(1-p)^{1-k}\\quad {\\text{for }}k\\in \\{0,1\\}}$\n",
    "\n",
    "\n",
    "${\\displaystyle \\operatorname {E} \\left(X\\right)=p}$\n",
    "\n",
    "$\\operatorname {Var} [Z]=pq=p(1-p)$"
   ]
  },
  {
   "cell_type": "code",
   "execution_count": 6,
   "id": "d698a039-bd99-4250-9ef6-a16afc283e85",
   "metadata": {},
   "outputs": [],
   "source": [
    "from scipy.stats import bernoulli"
   ]
  },
  {
   "cell_type": "code",
   "execution_count": 7,
   "id": "1b82330f-87bf-404d-91b0-aab0194c2414",
   "metadata": {},
   "outputs": [],
   "source": [
    "p = 0.6"
   ]
  },
  {
   "cell_type": "code",
   "execution_count": 10,
   "id": "80a013fb-5a88-412d-a1af-2caa26f472f5",
   "metadata": {},
   "outputs": [
    {
     "data": {
      "text/plain": [
       "0.6"
      ]
     },
     "execution_count": 10,
     "metadata": {},
     "output_type": "execute_result"
    }
   ],
   "source": [
    "rv = bernoulli(p)\n",
    "rv.pmf(k = 1)"
   ]
  },
  {
   "cell_type": "code",
   "execution_count": 16,
   "id": "6df310da-1cd5-46b3-a1a2-b0d1220e987b",
   "metadata": {},
   "outputs": [
    {
     "name": "stdout",
     "output_type": "stream",
     "text": [
      "Atış Sayısı: 2 --- Yazı Olasılığı: 50.00\n",
      "Atış Sayısı: 4 --- Yazı Olasılığı: 0.00\n",
      "Atış Sayısı: 8 --- Yazı Olasılığı: 62.50\n",
      "Atış Sayısı: 16 --- Yazı Olasılığı: 43.75\n",
      "Atış Sayısı: 32 --- Yazı Olasılığı: 46.88\n",
      "Atış Sayısı: 64 --- Yazı Olasılığı: 56.25\n",
      "Atış Sayısı: 128 --- Yazı Olasılığı: 50.78\n",
      "Atış Sayısı: 256 --- Yazı Olasılığı: 52.73\n",
      "Atış Sayısı: 512 --- Yazı Olasılığı: 52.93\n",
      "Atış Sayısı: 1024 --- Yazı Olasılığı: 50.20\n",
      "Atış Sayısı: 2048 --- Yazı Olasılığı: 48.58\n",
      "Atış Sayısı: 4096 --- Yazı Olasılığı: 49.49\n",
      "Atış Sayısı: 8192 --- Yazı Olasılığı: 49.58\n",
      "Atış Sayısı: 16384 --- Yazı Olasılığı: 49.96\n",
      "Atış Sayısı: 32768 --- Yazı Olasılığı: 50.00\n",
      "Atış Sayısı: 65536 --- Yazı Olasılığı: 49.68\n",
      "Atış Sayısı: 131072 --- Yazı Olasılığı: 49.97\n",
      "Atış Sayısı: 262144 --- Yazı Olasılığı: 50.13\n",
      "Atış Sayısı: 524288 --- Yazı Olasılığı: 50.01\n",
      "Atış Sayısı: 1048576 --- Yazı Olasılığı: 50.09\n"
     ]
    }
   ],
   "source": [
    "import numpy as np\n",
    "rng = np.random.RandomState(123)\n",
    "for i in np.arange(1,21):\n",
    "    deney_sayisi = 2**i\n",
    "    yazi_turalar = rng.randint(0, 2, size = deney_sayisi)\n",
    "    yazi_olasiliklari = np.mean(yazi_turalar)\n",
    "    print(\"Atış Sayısı:\", deney_sayisi, \"---\", 'Yazı Olasılığı: %.2f' % (yazi_olasiliklari * 100))"
   ]
  },
  {
   "cell_type": "markdown",
   "id": "473949b5-cdc4-4130-b66a-edb2f29b5a9c",
   "metadata": {},
   "source": [
    "##### Binom dağılımı, bağımsız n deneme sonucu k başarılı olma olasılığı ile ilgilenildiğinde kullanılan dağılımdır."
   ]
  },
  {
   "cell_type": "markdown",
   "id": "5bd6faa5-09b3-4203-8748-8f3d25419482",
   "metadata": {},
   "source": [
    "### Problem Detayları"
   ]
  },
  {
   "cell_type": "markdown",
   "id": "6620f4ef-f5d8-4214-bfc6-954d3ee623ea",
   "metadata": {},
   "source": [
    "##### Bir mecrada reklam verilecek."
   ]
  },
  {
   "cell_type": "markdown",
   "id": "a4411e2b-88b4-41de-a7c2-f111ca502c77",
   "metadata": {},
   "source": [
    "##### Dağılım ve reklama tıklama olasılığı biliniyor (0.01)"
   ]
  },
  {
   "cell_type": "markdown",
   "id": "df1c738a-42ed-4a84-afea-86c50d95a8c6",
   "metadata": {},
   "source": [
    "##### Reklamı 100 kişi gördüğünde 1, 5, 10 tıklanması olasılığı nedir?"
   ]
  },
  {
   "cell_type": "code",
   "execution_count": 17,
   "id": "6cbcc112-ded9-4e4f-a1fe-eeb30346ef39",
   "metadata": {},
   "outputs": [],
   "source": [
    "from scipy.stats import binom"
   ]
  },
  {
   "cell_type": "code",
   "execution_count": 18,
   "id": "616794a0-4995-4f1d-9e79-3d30d3b28e2f",
   "metadata": {},
   "outputs": [
    {
     "name": "stdout",
     "output_type": "stream",
     "text": [
      "0.36972963764972666\n",
      "0.0028977871237614783\n",
      "7.006035693977194e-08\n"
     ]
    }
   ],
   "source": [
    "p = 0.01\n",
    "n = 100\n",
    "rv = binom(n, p)\n",
    "print(rv.pmf(1))\n",
    "print(rv.pmf(5))\n",
    "print(rv.pmf(10))"
   ]
  },
  {
   "cell_type": "markdown",
   "id": "e378a830-3dff-4e28-bc3d-234b33e1f3a8",
   "metadata": {},
   "source": [
    "##### Belirli bir zaman aralığında belirli bir alanda nadiren rastlanan olayların olasılıklarını hesaplamak için Poisson Dağılımı kullanılır."
   ]
  },
  {
   "cell_type": "markdown",
   "id": "9891302d-8d1c-4d35-95da-1a5a640406ee",
   "metadata": {},
   "source": [
    "### Problem Detayları"
   ]
  },
  {
   "cell_type": "markdown",
   "id": "f1c4c936-3126-4078-8d49-b015252ba1d1",
   "metadata": {},
   "source": [
    "#####  Bir yıl süresinde ölçümler yapılıyor."
   ]
  },
  {
   "cell_type": "markdown",
   "id": "7fd8e9db-a04c-4216-a28a-505fd1e80a74",
   "metadata": {},
   "source": [
    "#####  Dağılım biliniyor(Poisson) ve Lambda(ortalama hata sayısı) 0.1 olarak veriliyor."
   ]
  },
  {
   "cell_type": "markdown",
   "id": "d8586c63-c195-4a48-85fd-b71ea9c1a806",
   "metadata": {},
   "source": [
    "##### Hiç hata olmaması, 3 hata olması ve 5 hata olması olasılıkları nedir?"
   ]
  },
  {
   "cell_type": "code",
   "execution_count": 19,
   "id": "e6812f6b-da57-4c1f-b810-9328bab88f9f",
   "metadata": {},
   "outputs": [],
   "source": [
    "from scipy.stats import poisson"
   ]
  },
  {
   "cell_type": "code",
   "execution_count": 20,
   "id": "d51abefd-0ed1-4770-b1a0-72eed65ef75d",
   "metadata": {},
   "outputs": [],
   "source": [
    "lambda_ = 0.1"
   ]
  },
  {
   "cell_type": "code",
   "execution_count": 22,
   "id": "90a38bd3-6529-4033-9a94-cf3767264428",
   "metadata": {},
   "outputs": [
    {
     "name": "stdout",
     "output_type": "stream",
     "text": [
      "0.9048374180359595\n",
      "0.00015080623633932676\n",
      "7.54031181696634e-08\n"
     ]
    }
   ],
   "source": [
    "rv = poisson(mu = lambda_)\n",
    "print(rv.pmf(k=0))\n",
    "print(rv.pmf(k=3))\n",
    "print(rv.pmf(k=5))"
   ]
  },
  {
   "cell_type": "markdown",
   "id": "e54307c3-18c1-489c-9011-0dc3d4b0594c",
   "metadata": {},
   "source": [
    "##### Normal dağıldığı bilinen rassal değişkenler için olasılık hesaplaması için Normal Dağılım kullanılır."
   ]
  },
  {
   "cell_type": "markdown",
   "id": "804186ec-5c9b-4f77-b09a-bf60b0f9a37c",
   "metadata": {},
   "source": [
    "### Problemin Detayları"
   ]
  },
  {
   "cell_type": "markdown",
   "id": "4dd59cd2-0a7a-4db6-84a3-95b7e0ffd71f",
   "metadata": {},
   "source": [
    "##### Dağılımın normal olduğu biliniyor."
   ]
  },
  {
   "cell_type": "markdown",
   "id": "b2f6a3cb-92b8-4348-aece-e483cdf1a7ff",
   "metadata": {},
   "source": [
    "##### Aylık ortalama satış sayısı 80K, standart sapma 5K"
   ]
  },
  {
   "cell_type": "markdown",
   "id": "489794d2-4cdf-45fd-a028-6543f1388030",
   "metadata": {},
   "source": [
    "##### 90K'dan fazla satış yapma olasılığı nedir?"
   ]
  },
  {
   "cell_type": "code",
   "execution_count": 24,
   "id": "fa4c9f4d-8e81-4cb3-b3c5-788d0d921942",
   "metadata": {},
   "outputs": [],
   "source": [
    "from scipy.stats import norm"
   ]
  },
  {
   "cell_type": "code",
   "execution_count": 25,
   "id": "3a076810-ee43-4fc2-b06c-444b038aad80",
   "metadata": {},
   "outputs": [
    {
     "data": {
      "text/plain": [
       "0.02275013194817921"
      ]
     },
     "execution_count": 25,
     "metadata": {},
     "output_type": "execute_result"
    }
   ],
   "source": [
    "1-norm.cdf(90, 80, 5)"
   ]
  },
  {
   "cell_type": "markdown",
   "id": "9076bfef-4b8e-4926-bf73-cdf481208cc6",
   "metadata": {},
   "source": [
    "##### 70K'dan fazla olma olasılığı nedir?"
   ]
  },
  {
   "cell_type": "code",
   "execution_count": 26,
   "id": "f7a44c3e-98ec-402a-a0a4-be805b61a135",
   "metadata": {},
   "outputs": [
    {
     "data": {
      "text/plain": [
       "0.9772498680518208"
      ]
     },
     "execution_count": 26,
     "metadata": {},
     "output_type": "execute_result"
    }
   ],
   "source": [
    "1-norm.cdf(70, 80, 5)"
   ]
  },
  {
   "cell_type": "markdown",
   "id": "599379a5-4bcc-4a80-be92-652796ef7896",
   "metadata": {},
   "source": [
    "##### 73K'dan az olma olasılığı nedir?"
   ]
  },
  {
   "cell_type": "code",
   "execution_count": 27,
   "id": "731c8d4c-85b2-493c-84fe-d5bb1eb5bdaf",
   "metadata": {},
   "outputs": [
    {
     "data": {
      "text/plain": [
       "0.08075665923377107"
      ]
     },
     "execution_count": 27,
     "metadata": {},
     "output_type": "execute_result"
    }
   ],
   "source": [
    "norm.cdf(73, 80, 5)"
   ]
  },
  {
   "cell_type": "markdown",
   "id": "74f4eb50-28b8-4a2f-a422-37aebe68452c",
   "metadata": {},
   "source": [
    "##### 85K ile 90K arasında olma olasılığı nedir?"
   ]
  },
  {
   "cell_type": "code",
   "execution_count": 28,
   "id": "1464d4b4-f872-4db3-899e-ca86611eca0b",
   "metadata": {},
   "outputs": [
    {
     "data": {
      "text/plain": [
       "0.13590512198327787"
      ]
     },
     "execution_count": 28,
     "metadata": {},
     "output_type": "execute_result"
    }
   ],
   "source": [
    "norm.cdf(90, 80,5) - norm.cdf(85, 80, 5)"
   ]
  }
 ],
 "metadata": {
  "kernelspec": {
   "display_name": "Python 3 (ipykernel)",
   "language": "python",
   "name": "python3"
  },
  "language_info": {
   "codemirror_mode": {
    "name": "ipython",
    "version": 3
   },
   "file_extension": ".py",
   "mimetype": "text/x-python",
   "name": "python",
   "nbconvert_exporter": "python",
   "pygments_lexer": "ipython3",
   "version": "3.10.7"
  }
 },
 "nbformat": 4,
 "nbformat_minor": 5
}
