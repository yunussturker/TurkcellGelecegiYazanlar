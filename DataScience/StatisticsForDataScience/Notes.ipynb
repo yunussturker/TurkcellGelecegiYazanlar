{
 "cells": [
  {
   "cell_type": "markdown",
   "id": "819f4d79-1880-4f8b-8be9-3e534623dbc4",
   "metadata": {},
   "source": [
    "Bağımsız 2 örneklem T testinde, \n",
    "\n",
    "H0: Varyanslar homojendir.\n",
    "\n",
    "H1: Varyanslar homojen değildir."
   ]
  },
  {
   "cell_type": "markdown",
   "id": "81509219-9fda-432b-9c04-609a245dc013",
   "metadata": {},
   "source": [
    "P-Value 0.05'ten küçük değil ise H0 reddedilemez."
   ]
  },
  {
   "cell_type": "markdown",
   "id": "389baf00-69e5-49c1-8ca1-489ee9f82a4c",
   "metadata": {},
   "source": [
    "Normallik varsayımı için 'shapiro',\n",
    "\n",
    "Varyans homojenliği varsayımı için 'levene' kullanılır."
   ]
  },
  {
   "cell_type": "markdown",
   "id": "6729246d-e73d-4dc3-9f4b-58f2a8daa1b2",
   "metadata": {},
   "source": [
    "Hipotez testi, bir inanışı veya savı test etmek için kullanılan istatistiksel bir tekniktir."
   ]
  },
  {
   "cell_type": "markdown",
   "id": "4ff45f04-f56c-4ccd-8573-f3181e55f1b2",
   "metadata": {},
   "source": [
    "Örnek Hipotez testi:\n",
    "    \n",
    "    H0: µ = 50\n",
    "    \n",
    "    H1: µ ≠ 50 "
   ]
  },
  {
   "cell_type": "markdown",
   "id": "9d824f19-14fa-4d4b-ada5-57b9c93613e7",
   "metadata": {},
   "source": [
    "H0 doğruysa ve H0 reddedildiyse; Tip 1 Hata (Pozitif Yanlış)\n",
    "\n",
    "H0 yanlışsa ve H0 reddedilmediyse; Tip 2 Hata (Negatif Yanlış)\n"
   ]
  },
  {
   "cell_type": "markdown",
   "id": "acdab7db-2ca7-4519-870a-529eed9a78d7",
   "metadata": {},
   "source": [
    "P-value < 0.05 ise H0 hipotezi reddedilir, bu genellikle avantajlı bir durumdur.\n",
    "\n",
    "Fakat dağılım testlerinde H0 reddedilmek istenmez. Çünkü H0; \"Örnek dağılımı ile teorik dağılım arasında fark yoktur.\" der.\n",
    "\n"
   ]
  },
  {
   "cell_type": "markdown",
   "id": "8dda78f4-5fc4-4d5b-a67f-b0b77f72faba",
   "metadata": {},
   "source": [
    "Dağılım testi(Örnek dağılımla teorik dağılımın eşitliği)"
   ]
  },
  {
   "cell_type": "markdown",
   "id": "0abcad9d-eb51-4cf3-9870-62b1a544fbf2",
   "metadata": {},
   "source": [
    "Hipotez testi adımları:\n",
    "\n",
    "1. Hipotezlerin kurulması ve yönlerinin belirlenmesi\n",
    "\n",
    "2. Anlamlılık düzeyinin ve tablo değerinin belirlenmesi(α = 0.05)\n",
    "\n",
    "3. Test istatistiğinin belirlenmesi ve test istatistiğinin hesaplanması\n",
    "\n",
    "4. Hesaplanan test istatistiği ile alfa'ya karşılık gelen tablo değerinin karşılaştırılması\n",
    "\n",
    "    Test istatistiği (Zh) > Tablo değeri (Zt) ise H0 red\n",
    "\n",
    "5. Yorum\n"
   ]
  },
  {
   "cell_type": "markdown",
   "id": "684b2009-a4c6-4078-a5d8-f73a94626473",
   "metadata": {},
   "source": [
    "Tek Örneklem T Testi: Popülasyon ortalaması ile varsayımsal bir değer arasında istatistiksel olarak bir farklılık olup olmadığını test eder.\n",
    "\n",
    "Ana kütle standart sapması biliniyorsa z istatistiği kullanılır.\n",
    "\n",
    "Ana kütle standart sapması bilinmiyorsa ve n > 30 ise z istatistiği kullanılır.\n",
    "\n",
    "Ana kütle standart sapması bilinmiyorsa ve n < 30 ise t istatistiği kullanılır.\n",
    "\n",
    "t = (x̄ - µ) / (s / √n)\n",
    "\n",
    "z = (x̄ - µ) / (σ / √n)\n",
    "\n",
    "n büyüdükçe t, z'ye yaklaşır."
   ]
  },
  {
   "cell_type": "markdown",
   "id": "2898213c-394c-4155-ab58-a5267f96549e",
   "metadata": {},
   "source": [
    "Shapiro - Wilks Testi\n",
    "\n",
    "H0: Örnek dağılım ile teorik dağılım arasında istatistiksel olarak anlamlı bir fark YOKTUR.\n",
    "\n",
    "H1: Örnek dağılım ile teorik dağılım arasında istatistiksel olarak anlamlı bir fark VARDIR.."
   ]
  },
  {
   "cell_type": "markdown",
   "id": "61964c9e-897e-4ef0-9fb5-d21f0d90331b",
   "metadata": {},
   "source": [
    "Tek Örneklem T Testi\n",
    "\n",
    "    Hipotez testi uygulama;\n",
    "\n",
    "        stats.ttest_1samp()\n",
    "    \n",
    "Nonparametrik Tek Örneklem Testi\n",
    "\n",
    "   from statmodels.stats.descriptivestats import sign_test\n"
   ]
  },
  {
   "cell_type": "markdown",
   "id": "8a228a1c-5c30-4e89-ab24-530c10de8f7c",
   "metadata": {},
   "source": [
    "Tek Örneklem Oran Testi: Oransal bir ifade test edilmek istenildiğinde kullanılır.\n",
    "\n",
    "    from statsmodels.stats.proportion import proportion_ztest"
   ]
  },
  {
   "cell_type": "markdown",
   "id": "6c570949-fddc-42bf-bd59-20cd45d7451a",
   "metadata": {},
   "source": [
    "Bağımsız İki Örneklem T Testi (AB Testi): \n",
    "\n",
    "    İki grup ortalaması arasında karşılaştırma yapılmak istenildiğinde kullanılır.\n",
    "    \n",
    "    Hipotez testi: stats.ttest_ind()\n",
    "\n",
    "Nonparametrik Bağımsız İki Örneklem Testi:\n",
    "\n",
    "    stats.mannwhitneyu()"
   ]
  },
  {
   "cell_type": "markdown",
   "id": "e117ad1b-cb42-421c-a5cf-2bf0d1d9d02e",
   "metadata": {},
   "source": [
    "Bağımlı İki Örneklem T Testi:\n",
    "\n",
    "    Bağımlı iki grup ortalaması arasında karşılaştırma yapmak istenildiğinde kullanılır.\n",
    "    \n",
    "    Hipotez testi: stats.ttest_rel()\n",
    "\n",
    "Nonparametrik Bağımsız İki Örneklem Testi:\n",
    "    \n",
    "    stats.wilcoxon()\n",
    "    \n",
    "İki Örneklem Oran Testi: İki oran arasında karşılaştırma yapmak için kullanılır.\n",
    "\n",
    "    from statsmodels.stats.proportion import proportion_ztest"
   ]
  },
  {
   "cell_type": "markdown",
   "id": "d485b5e6-38bc-4328-97f3-3f697354579c",
   "metadata": {},
   "source": [
    "Varyans Analizi: İki veya daha fazla grup ortalaması arasında istatistiksel fark olup olmadığını öğrenmek için kullanılır.\n",
    "\n",
    "    Hipotez Testi: from scipy.stats import f_oneway\n",
    "    \n",
    "    Nonparametrik Hipotez Testi: from scipy.stats import kruskal\n",
    "\n",
    "Korelasyon Analizi: Değişkenler arasında ilişki, bu ilişkinin yönü ve şiddeti ile ilgili bilgiler sağlayan istatistiksel bir yöntemdir.\n",
    "\n",
    "    Normallik varsayımı uygulanır. Varsayım sağlanıyorsa Pearson Korelasyon Katsayısı, sağlanmıyorsa Spearman Korelasyon Katsayısı kullanılır.\n",
    "    \n",
    "    df[\"tip\"].corr(df[\"total_bill\"]) --> Pearson\n",
    "    \n",
    "    df[\"tip\"].corr(df[\"total_bill\"], method=\"spearman\")\n",
    "    \n",
    "    Korelasyon Anlamlılığı Testi: from scipy.stats.stats import pearsonr\n",
    "    \n",
    "    Nonparametrik Hipotez Testi: stats.spearmanr() veya stats.kendalltau()"
   ]
  }
 ],
 "metadata": {
  "kernelspec": {
   "display_name": "Python 3 (ipykernel)",
   "language": "python",
   "name": "python3"
  },
  "language_info": {
   "codemirror_mode": {
    "name": "ipython",
    "version": 3
   },
   "file_extension": ".py",
   "mimetype": "text/x-python",
   "name": "python",
   "nbconvert_exporter": "python",
   "pygments_lexer": "ipython3",
   "version": "3.10.7"
  }
 },
 "nbformat": 4,
 "nbformat_minor": 5
}
