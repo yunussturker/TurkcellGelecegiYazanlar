{
 "cells": [
  {
   "cell_type": "markdown",
   "id": "63db7f0c-6e46-40a4-8128-cf033f6f995c",
   "metadata": {},
   "source": [
    "### eXtreme Gradient Boosting (XGBoost)\n",
    "##### GBM'in hız ve tahmin performansını arttırmak üzere optimize edilmiş, ölçeklenebilir ve farklı platformlara entegre edilebilir halidir.\n",
    "###### GBM'in bazı mekanik problemlerini gidermek için ortaya çıkmıştır.\n",
    "###### Ölçeklenebilirdir.\n",
    "###### Hızlıdır.\n",
    "###### Tahmin başarısı yüksektir."
   ]
  },
  {
   "cell_type": "code",
   "execution_count": 1,
   "id": "ad0ea032-1243-4012-809c-7e70dd93dc50",
   "metadata": {},
   "outputs": [],
   "source": [
    "import numpy as np\n",
    "import pandas as pd \n",
    "import statsmodels.api as sm\n",
    "import seaborn as sns\n",
    "import matplotlib.pyplot as plt\n",
    "from sklearn.preprocessing import scale, StandardScaler\n",
    "from sklearn.model_selection import train_test_split, GridSearchCV, cross_val_score\n",
    "from sklearn.metrics import confusion_matrix, accuracy_score, mean_squared_error, r2_score, roc_auc_score, roc_curve, classification_report\n",
    "from sklearn.linear_model import LogisticRegression\n",
    "from sklearn.neighbors import KNeighborsClassifier\n",
    "from sklearn.svm import SVC\n",
    "from sklearn.neural_network import MLPClassifier\n",
    "from sklearn.tree import DecisionTreeClassifier\n",
    "from sklearn.ensemble import RandomForestClassifier\n",
    "from sklearn.ensemble import GradientBoostingClassifier"
   ]
  },
  {
   "cell_type": "code",
   "execution_count": 2,
   "id": "306415ab-dd08-4047-8de1-1f35db69dd56",
   "metadata": {},
   "outputs": [],
   "source": [
    "import warnings\n",
    "warnings.filterwarnings('ignore')"
   ]
  },
  {
   "cell_type": "code",
   "execution_count": 3,
   "id": "e1cdbfd8-0dbb-427f-85e4-beee5793609c",
   "metadata": {},
   "outputs": [],
   "source": [
    "df = pd.read_csv(\"diabetes.csv\")"
   ]
  },
  {
   "cell_type": "code",
   "execution_count": 4,
   "id": "5872f290-07c4-42d7-bb5a-c5cd240bc64e",
   "metadata": {},
   "outputs": [],
   "source": [
    "y = df[\"Outcome\"]\n",
    "X = df.drop([\"Outcome\"], axis=1)\n",
    "X_train, X_test, y_train, y_test = train_test_split(X, y, test_size=0.30, random_state=42)"
   ]
  },
  {
   "cell_type": "markdown",
   "id": "f2a85400-8d36-4121-a94e-ed1aeec39a1e",
   "metadata": {},
   "source": [
    "#### Model & Predict"
   ]
  },
  {
   "cell_type": "code",
   "execution_count": 5,
   "id": "950abe5b-9e1c-460a-bc5c-512a7a9d4d4e",
   "metadata": {},
   "outputs": [],
   "source": [
    "from xgboost import XGBClassifier"
   ]
  },
  {
   "cell_type": "code",
   "execution_count": 6,
   "id": "2fbe48ec-09fa-4ac3-be6f-287068b7c94b",
   "metadata": {},
   "outputs": [],
   "source": [
    "xgb_model = XGBClassifier().fit(X_train, y_train)"
   ]
  },
  {
   "cell_type": "code",
   "execution_count": 7,
   "id": "c9fea747-ffb4-498c-84d6-14b67109144a",
   "metadata": {},
   "outputs": [],
   "source": [
    "y_pred = xgb_model.predict(X_test)"
   ]
  },
  {
   "cell_type": "code",
   "execution_count": 8,
   "id": "6d1bce7a-71ac-4271-9360-af35bc5dd969",
   "metadata": {},
   "outputs": [
    {
     "data": {
      "text/plain": [
       "0.7359307359307359"
      ]
     },
     "execution_count": 8,
     "metadata": {},
     "output_type": "execute_result"
    }
   ],
   "source": [
    "accuracy_score(y_test, y_pred)"
   ]
  },
  {
   "cell_type": "markdown",
   "id": "3b5f794f-f9c3-4941-8d19-dc1cf3647a34",
   "metadata": {},
   "source": [
    "#### Model Tuning"
   ]
  },
  {
   "cell_type": "code",
   "execution_count": 9,
   "id": "32958853-0d66-42f3-919c-7462dd199d7c",
   "metadata": {},
   "outputs": [],
   "source": [
    "xgb = XGBClassifier()"
   ]
  },
  {
   "cell_type": "code",
   "execution_count": 10,
   "id": "71973f1b-b938-4236-825b-476856c8bfa2",
   "metadata": {},
   "outputs": [],
   "source": [
    "xgb_params = {\"n_estimators\": [100, 500, 1000],\n",
    "              \"subsample\": [0.6, 0.8, 1],\n",
    "              \"max_depth\": [3, 5, 7],\n",
    "              \"learning_rate\": [0.1, 0.001, 0.01]}"
   ]
  },
  {
   "cell_type": "code",
   "execution_count": 11,
   "id": "627a9797-9e5c-4b5b-9e2e-69b6d60185bb",
   "metadata": {},
   "outputs": [
    {
     "name": "stdout",
     "output_type": "stream",
     "text": [
      "Fitting 10 folds for each of 81 candidates, totalling 810 fits\n"
     ]
    }
   ],
   "source": [
    "xgb_cv_model = GridSearchCV(xgb, xgb_params, cv=10, n_jobs=-1, verbose=2).fit(X_train, y_train)"
   ]
  },
  {
   "cell_type": "code",
   "execution_count": 12,
   "id": "06ea11c2-19f9-4a9b-b6da-a702c690a517",
   "metadata": {},
   "outputs": [
    {
     "data": {
      "text/plain": [
       "{'learning_rate': 0.001, 'max_depth': 7, 'n_estimators': 500, 'subsample': 0.6}"
      ]
     },
     "execution_count": 12,
     "metadata": {},
     "output_type": "execute_result"
    }
   ],
   "source": [
    "xgb_cv_model.best_params_"
   ]
  },
  {
   "cell_type": "code",
   "execution_count": 13,
   "id": "c9648873-dde9-49f1-9ca4-918a634bdf90",
   "metadata": {},
   "outputs": [],
   "source": [
    "xgb_tuned = XGBClassifier(learning_rate = 0.001, max_depth=7, n_estimators=500, subsample=0.6).fit(X_train, y_train)"
   ]
  },
  {
   "cell_type": "code",
   "execution_count": 14,
   "id": "ef4c3e99-4817-470a-bc08-ccd7e81c7c15",
   "metadata": {},
   "outputs": [],
   "source": [
    "y_pred = xgb_tuned.predict(X_test)"
   ]
  },
  {
   "cell_type": "code",
   "execution_count": 15,
   "id": "f081e982-6429-417e-bee3-4339499bdb63",
   "metadata": {},
   "outputs": [
    {
     "data": {
      "text/plain": [
       "0.7575757575757576"
      ]
     },
     "execution_count": 15,
     "metadata": {},
     "output_type": "execute_result"
    }
   ],
   "source": [
    "accuracy_score(y_test, y_pred)"
   ]
  },
  {
   "cell_type": "code",
   "execution_count": 17,
   "id": "6bcdc2e9-0171-41df-93b9-63bf540ab276",
   "metadata": {},
   "outputs": [
    {
     "data": {
      "image/png": "[encoded data removed]",
      "text/plain": [
       "<Figure size 640x480 with 1 Axes>"
      ]
     },
     "metadata": {},
     "output_type": "display_data"
    }
   ],
   "source": [
    "feature_imp = pd.Series(xgb_tuned.feature_importances_, index=X_train.columns).sort_values(ascending=False)\n",
    "sns.barplot(x=feature_imp, y=feature_imp.index);"
   ]
  }
 ],
 "metadata": {
  "kernelspec": {
   "display_name": "Python 3 (ipykernel)",
   "language": "python",
   "name": "python3"
  },
  "language_info": {
   "codemirror_mode": {
    "name": "ipython",
    "version": 3
   },
   "file_extension": ".py",
   "mimetype": "text/x-python",
   "name": "python",
   "nbconvert_exporter": "python",
   "pygments_lexer": "ipython3",
   "version": "3.10.7"
  }
 },
 "nbformat": 4,
 "nbformat_minor": 5
}
