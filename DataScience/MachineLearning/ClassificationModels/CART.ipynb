{
 "cells": [
  {
   "cell_type": "markdown",
   "id": "96e43684-e5d7-4cbe-b50a-0d8c078ae570",
   "metadata": {},
   "source": [
    "### Classification and Regression Tree (CART)\n",
    "#### Amaç, veri seti içerisindeki karmaşık yapıyı basit karar yapılarına dönüştürmektir.\n",
    "##### Heterojen veri setleri belirlenmiş bir hedef değişkene göre homojen alt gruplara ayrılır."
   ]
  },
  {
   "cell_type": "code",
   "execution_count": 1,
   "id": "e77588bc-dfaf-4162-bc86-3683da39d648",
   "metadata": {},
   "outputs": [],
   "source": [
    "import numpy as np\n",
    "import pandas as pd \n",
    "import statsmodels.api as sm\n",
    "import seaborn as sns\n",
    "import matplotlib.pyplot as plt\n",
    "from sklearn.preprocessing import scale, StandardScaler\n",
    "from sklearn.model_selection import train_test_split, GridSearchCV, cross_val_score\n",
    "from sklearn.metrics import confusion_matrix, accuracy_score, mean_squared_error, r2_score, roc_auc_score, roc_curve, classification_report\n",
    "from sklearn.linear_model import LogisticRegression\n",
    "from sklearn.neighbors import KNeighborsClassifier\n",
    "from sklearn.svm import SVC\n",
    "from sklearn.neural_network import MLPClassifier\n",
    "from sklearn.tree import DecisionTreeClassifier\n",
    "from sklearn.ensemble import RandomForestClassifier\n",
    "from sklearn.ensemble import GradientBoostingClassifier"
   ]
  },
  {
   "cell_type": "code",
   "execution_count": 2,
   "id": "9cdf57bc-fc5a-4a68-8225-fae7e983cf44",
   "metadata": {},
   "outputs": [],
   "source": [
    "import warnings\n",
    "warnings.filterwarnings('ignore')"
   ]
  },
  {
   "cell_type": "code",
   "execution_count": 3,
   "id": "ac447671-b3d8-466b-a4d8-45f06c67fe42",
   "metadata": {},
   "outputs": [],
   "source": [
    "df = pd.read_csv(\"diabetes.csv\")"
   ]
  },
  {
   "cell_type": "code",
   "execution_count": 4,
   "id": "feb41723-e0dd-440a-a66e-794c1088abba",
   "metadata": {},
   "outputs": [],
   "source": [
    "y = df[\"Outcome\"]\n",
    "X = df.drop([\"Outcome\"], axis=1)\n",
    "X_train, X_test, y_train, y_test = train_test_split(X, y, test_size=0.30, random_state=42)"
   ]
  },
  {
   "cell_type": "markdown",
   "id": "b005a6f9-4634-4313-8c2e-17021186062d",
   "metadata": {},
   "source": [
    "#### Model & Prediction"
   ]
  },
  {
   "cell_type": "code",
   "execution_count": 5,
   "id": "925e8118-7433-4c79-b448-098ee8c2b0e0",
   "metadata": {},
   "outputs": [],
   "source": [
    "cart_model = DecisionTreeClassifier().fit(X_train, y_train)"
   ]
  },
  {
   "cell_type": "code",
   "execution_count": 6,
   "id": "405e8d17-beb7-42b1-8a94-61a52c41b758",
   "metadata": {},
   "outputs": [],
   "source": [
    "y_pred = cart_model.predict(X_test)"
   ]
  },
  {
   "cell_type": "code",
   "execution_count": null,
   "id": "3c3345f9-9fa0-4658-bfb5-425571678dfc",
   "metadata": {},
   "outputs": [
    {
     "data": {
      "text/plain": [
       "0.7056277056277056"
      ]
     },
     "execution_count": 7,
     "metadata": {},
     "output_type": "execute_result"
    }
   ],
   "source": [
    "accuracy_score(y_test, y_pred)"
   ]
  },
  {
   "cell_type": "markdown",
   "id": "0abae0be-ea0c-4d72-b054-40080fb0695f",
   "metadata": {},
   "source": [
    "#### Model Tuning"
   ]
  },
  {
   "cell_type": "code",
   "execution_count": 8,
   "id": "e4985f0b-d4c0-4279-b030-48e6c31b9aee",
   "metadata": {},
   "outputs": [],
   "source": [
    "cart = DecisionTreeClassifier()"
   ]
  },
  {
   "cell_type": "code",
   "execution_count": 11,
   "id": "252bfebd-8d7b-43fb-ba30-fcd77c45ed16",
   "metadata": {},
   "outputs": [],
   "source": [
    "cart_params = {\"max_depth\": [1,3,5,8,10],\n",
    "               \"min_samples_split\": [2,3,5,10,20]}"
   ]
  },
  {
   "cell_type": "code",
   "execution_count": 12,
   "id": "74790fa6-c616-469b-9cff-7d344dc80cb2",
   "metadata": {},
   "outputs": [
    {
     "name": "stdout",
     "output_type": "stream",
     "text": [
      "Fitting 10 folds for each of 25 candidates, totalling 250 fits\n"
     ]
    }
   ],
   "source": [
    "cart_cv_model = GridSearchCV(cart, cart_params, cv=10, n_jobs=-1, verbose=2).fit(X_train, y_train)"
   ]
  },
  {
   "cell_type": "code",
   "execution_count": 13,
   "id": "dc2e2b89-de2a-4be1-bf12-5506ef49807b",
   "metadata": {},
   "outputs": [
    {
     "data": {
      "text/plain": [
       "{'max_depth': 5, 'min_samples_split': 20}"
      ]
     },
     "execution_count": 13,
     "metadata": {},
     "output_type": "execute_result"
    }
   ],
   "source": [
    "cart_cv_model.best_params_"
   ]
  },
  {
   "cell_type": "code",
   "execution_count": 14,
   "id": "a25e5b5d-68b9-476f-aad6-a17c66d80c19",
   "metadata": {},
   "outputs": [],
   "source": [
    "# Final Model\n",
    "cart_tuned = DecisionTreeClassifier(max_depth=5, min_samples_split=20).fit(X_train, y_train)"
   ]
  },
  {
   "cell_type": "code",
   "execution_count": 15,
   "id": "53b4c9bd-3372-42b1-8868-37d9b6eb9ed5",
   "metadata": {},
   "outputs": [],
   "source": [
    "y_pred = cart_tuned.predict(X_test)"
   ]
  },
  {
   "cell_type": "code",
   "execution_count": 16,
   "id": "5c95aaa4-974e-48d0-9bc2-fcc9811d2deb",
   "metadata": {},
   "outputs": [
    {
     "data": {
      "text/plain": [
       "0.7532467532467533"
      ]
     },
     "execution_count": 16,
     "metadata": {},
     "output_type": "execute_result"
    }
   ],
   "source": [
    "accuracy_score(y_test, y_pred)"
   ]
  }
 ],
 "metadata": {
  "kernelspec": {
   "display_name": "Python 3 (ipykernel)",
   "language": "python",
   "name": "python3"
  },
  "language_info": {
   "codemirror_mode": {
    "name": "ipython",
    "version": 3
   },
   "file_extension": ".py",
   "mimetype": "text/x-python",
   "name": "python",
   "nbconvert_exporter": "python",
   "pygments_lexer": "ipython3",
   "version": "3.10.7"
  }
 },
 "nbformat": 4,
 "nbformat_minor": 5
}
