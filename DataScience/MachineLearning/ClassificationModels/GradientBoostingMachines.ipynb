{
 "cells": [
  {
   "cell_type": "markdown",
   "id": "0edfff81-1ae8-407a-89c9-3c5afdedf574",
   "metadata": {},
   "source": [
    "### Gradient Boosting Machines (GBM)\n",
    "##### AdaBoost'un sınıflandırma ve regresyon problemlerine kolayca uygulanabilen genelleştirilmiş versiyonudur.\n",
    "###### AdaBoost: Zayıf sınıflandırıcıların bir araya gelerek, güçlü sınıflandırıcı oluşturulması.\n",
    "##### Artıklar üzerine tek bir tahminsel model formunda olan modeller serisi kurulur.\n",
    "##### Random Forest ve Bagging aksine, ağaçlar arasında bağımlılık bulunur.\n",
    "###### Oluşturulan ağaçların ürettiği sonuçların üzerinden yeni ağaçlar oluşturulur."
   ]
  },
  {
   "cell_type": "markdown",
   "id": "e9537937-5156-4e85-9f14-7bbe3c987667",
   "metadata": {},
   "source": [
    "##### Gradient Boosting tek bir tahminsel model formunda olan modeller serisi oluşturur.\n",
    "##### Seri içerisindeki bir model, serideki bir önceki tahmin artıklarının(residuals) üzerine kurularak(fit) oluşturulur.\n",
    "##### GBM diferansiyellenebilen herhangi bir kayıp fonksiyonunu optimize edebilen Gradient Descent algoritmasını kullanmaktadır.\n",
    "##### GBM, bir çok temel öğrenici tipiyle(base learner type) kullanılabilir.(Trees, linear terms, splines,..)\n",
    "##### Cost fonksiyonları ve link fonksiyonları modifiye edilebilirdir.\n",
    "##### Boosting + Gradient Descent"
   ]
  },
  {
   "cell_type": "code",
   "execution_count": 1,
   "id": "3a886725-e8d6-4f3e-b750-bfa2c98ad39a",
   "metadata": {},
   "outputs": [],
   "source": [
    "import numpy as np\n",
    "import pandas as pd \n",
    "import statsmodels.api as sm\n",
    "import seaborn as sns\n",
    "import matplotlib.pyplot as plt\n",
    "from sklearn.preprocessing import scale, StandardScaler\n",
    "from sklearn.model_selection import train_test_split, GridSearchCV, cross_val_score\n",
    "from sklearn.metrics import confusion_matrix, accuracy_score, mean_squared_error, r2_score, roc_auc_score, roc_curve, classification_report\n",
    "from sklearn.linear_model import LogisticRegression\n",
    "from sklearn.neighbors import KNeighborsClassifier\n",
    "from sklearn.svm import SVC\n",
    "from sklearn.neural_network import MLPClassifier\n",
    "from sklearn.tree import DecisionTreeClassifier\n",
    "from sklearn.ensemble import RandomForestClassifier\n",
    "from sklearn.ensemble import GradientBoostingClassifier"
   ]
  },
  {
   "cell_type": "code",
   "execution_count": 2,
   "id": "13068758-5378-4240-a829-fb976dca2e0e",
   "metadata": {},
   "outputs": [],
   "source": [
    "import warnings\n",
    "warnings.filterwarnings('ignore')"
   ]
  },
  {
   "cell_type": "code",
   "execution_count": 3,
   "id": "84ae9b9e-a8c1-40b3-a9da-593335715a2c",
   "metadata": {},
   "outputs": [],
   "source": [
    "df = pd.read_csv(\"diabetes.csv\")"
   ]
  },
  {
   "cell_type": "code",
   "execution_count": 4,
   "id": "fc147711-4458-46e9-b924-87c2bae78171",
   "metadata": {},
   "outputs": [],
   "source": [
    "y = df[\"Outcome\"]\n",
    "X = df.drop([\"Outcome\"], axis=1)\n",
    "X_train, X_test, y_train, y_test = train_test_split(X, y, test_size=0.30, random_state=42)"
   ]
  },
  {
   "cell_type": "markdown",
   "id": "e0ac0d09-fd1a-4223-94bd-e24d9622fa08",
   "metadata": {},
   "source": [
    "#### Model & Prediction"
   ]
  },
  {
   "cell_type": "code",
   "execution_count": 5,
   "id": "e09f2d59-da92-4b25-9f35-c59e1263b9c2",
   "metadata": {},
   "outputs": [],
   "source": [
    "gbm_model = GradientBoostingClassifier().fit(X_train, y_train)"
   ]
  },
  {
   "cell_type": "markdown",
   "id": "08feb8ec-5f11-4c3c-82c6-6d2520ee752e",
   "metadata": {},
   "source": [
    "###### loss: Gerçek değerler ile tahmin edilen değerler arasındaki farkı optimize eder.\n",
    "###### learning rate: Her bir ağacın etkisini ifade eder. (n_estimators arasında bir ilişki bulunur.)\n",
    "###### criterion: Bölünmelere karar vermek adına kullanılan kriter.\n",
    "###### min_samples_split: Bölünme için gerekli olan minimum bölünme sayısı."
   ]
  },
  {
   "cell_type": "code",
   "execution_count": 6,
   "id": "54c880ad-08f0-4eda-998b-30dc4ee46dc9",
   "metadata": {},
   "outputs": [],
   "source": [
    "y_pred = gbm_model.predict(X_test)"
   ]
  },
  {
   "cell_type": "code",
   "execution_count": 7,
   "id": "9b9ebbee-5deb-47da-9c37-5f3c79d50b41",
   "metadata": {},
   "outputs": [
    {
     "data": {
      "text/plain": [
       "0.7445887445887446"
      ]
     },
     "execution_count": 7,
     "metadata": {},
     "output_type": "execute_result"
    }
   ],
   "source": [
    "accuracy_score(y_test, y_pred)"
   ]
  },
  {
   "cell_type": "markdown",
   "id": "76f3a6c2-1fd2-4366-a6fb-0a14984c0cba",
   "metadata": {},
   "source": [
    "#### Model Tuning"
   ]
  },
  {
   "cell_type": "code",
   "execution_count": 8,
   "id": "5d3502ab-1706-4b85-9642-6a72611643b1",
   "metadata": {},
   "outputs": [],
   "source": [
    "gbm = GradientBoostingClassifier()"
   ]
  },
  {
   "cell_type": "code",
   "execution_count": 9,
   "id": "a2a94000-3158-42ff-a18d-91a8f9cc0e52",
   "metadata": {},
   "outputs": [],
   "source": [
    "gbm_params = {\"learning_rate\": [0.1, 0.01, 0.001, 0.05],\n",
    "              \"n_estimators\": [100, 300, 500, 1000],\n",
    "              \"max_depth\": [2, 3, 5, 8]}"
   ]
  },
  {
   "cell_type": "code",
   "execution_count": 10,
   "id": "cf8bcbea-8fdf-4027-aa76-7c2218a4ac61",
   "metadata": {},
   "outputs": [
    {
     "name": "stdout",
     "output_type": "stream",
     "text": [
      "Fitting 10 folds for each of 64 candidates, totalling 640 fits\n"
     ]
    }
   ],
   "source": [
    "gbm_cv_model = GridSearchCV(gbm, gbm_params, cv=10, n_jobs=-1, verbose=2).fit(X_train, y_train)"
   ]
  },
  {
   "cell_type": "code",
   "execution_count": 11,
   "id": "a5b5e76e-cf1d-4c2c-8de8-9c89a53486c2",
   "metadata": {},
   "outputs": [
    {
     "data": {
      "text/plain": [
       "{'learning_rate': 0.01, 'max_depth': 5, 'n_estimators': 500}"
      ]
     },
     "execution_count": 11,
     "metadata": {},
     "output_type": "execute_result"
    }
   ],
   "source": [
    "gbm_cv_model.best_params_"
   ]
  },
  {
   "cell_type": "code",
   "execution_count": 12,
   "id": "a98c92cb-a9ec-45a3-ad89-a9f3f288dfeb",
   "metadata": {},
   "outputs": [],
   "source": [
    "# Final Model\n",
    "gbm_tuned = GradientBoostingClassifier(learning_rate=0.01, max_depth=5, n_estimators=500).fit(X_train, y_train)"
   ]
  },
  {
   "cell_type": "code",
   "execution_count": 13,
   "id": "1cd956da-f037-47e4-800e-6a4224c6bd1b",
   "metadata": {},
   "outputs": [],
   "source": [
    "y_pred = gbm_tuned.predict(X_test)"
   ]
  },
  {
   "cell_type": "code",
   "execution_count": 14,
   "id": "c64b362c-8d0e-4431-82b3-66d37e1fb2b1",
   "metadata": {},
   "outputs": [
    {
     "data": {
      "text/plain": [
       "0.7359307359307359"
      ]
     },
     "execution_count": 14,
     "metadata": {},
     "output_type": "execute_result"
    }
   ],
   "source": [
    "accuracy_score(y_test, y_pred)"
   ]
  },
  {
   "cell_type": "code",
   "execution_count": 15,
   "id": "0759df03-ddd6-413a-a079-9f9c28439728",
   "metadata": {},
   "outputs": [
    {
     "data": {
      "image/png": "[encoded data removed]",
      "text/plain": [
       "<Figure size 640x480 with 1 Axes>"
      ]
     },
     "metadata": {},
     "output_type": "display_data"
    }
   ],
   "source": [
    "feature_imp = pd.Series(gbm_tuned.feature_importances_, index=X_train.columns).sort_values(ascending=False)\n",
    "sns.barplot(x=feature_imp, y=feature_imp.index)\n",
    "plt.show()"
   ]
  }
 ],
 "metadata": {
  "kernelspec": {
   "display_name": "Python 3 (ipykernel)",
   "language": "python",
   "name": "python3"
  },
  "language_info": {
   "codemirror_mode": {
    "name": "ipython",
    "version": 3
   },
   "file_extension": ".py",
   "mimetype": "text/x-python",
   "name": "python",
   "nbconvert_exporter": "python",
   "pygments_lexer": "ipython3",
   "version": "3.10.7"
  }
 },
 "nbformat": 4,
 "nbformat_minor": 5
}
