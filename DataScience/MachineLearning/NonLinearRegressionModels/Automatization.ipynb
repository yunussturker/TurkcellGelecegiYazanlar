{
 "cells": [
  {
   "cell_type": "code",
   "execution_count": 14,
   "id": "159a52b6-ba31-4956-85dd-a93dc1a1bd3c",
   "metadata": {},
   "outputs": [],
   "source": [
    "import numpy as np\n",
    "import pandas as pd\n",
    "from sklearn.model_selection import train_test_split, GridSearchCV\n",
    "from sklearn.metrics import mean_squared_error, r2_score\n",
    "import matplotlib.pyplot as plt\n",
    "from sklearn.preprocessing import scale\n",
    "from sklearn.preprocessing import StandardScaler\n",
    "from sklearn import model_selection\n",
    "from sklearn.linear_model import LinearRegression\n",
    "from sklearn.tree import DecisionTreeRegressor\n",
    "from sklearn.neighbors import KNeighborsRegressor\n",
    "from sklearn.neural_network import MLPRegressor\n",
    "from sklearn.ensemble import RandomForestRegressor\n",
    "from sklearn.ensemble import GradientBoostingRegressor\n",
    "from sklearn import neighbors\n",
    "from sklearn.svm import SVR\n",
    "from lightgbm import LGBMRegressor\n",
    "import xgboost\n",
    "from xgboost import XGBRegressor"
   ]
  },
  {
   "cell_type": "code",
   "execution_count": 15,
   "id": "46ac5056-80c4-4aa5-9143-03a2375a0e35",
   "metadata": {},
   "outputs": [],
   "source": [
    "import warnings \n",
    "warnings.filterwarnings('ignore')"
   ]
  },
  {
   "cell_type": "code",
   "execution_count": 16,
   "id": "05e33b8d-989a-4a9c-b8b6-ca654e2ab031",
   "metadata": {},
   "outputs": [],
   "source": [
    "df = pd.read_csv(\"Hitters.csv\")\n",
    "df = df.dropna()\n",
    "dms = pd.get_dummies(df[[\"League\", \"Division\", \"NewLeague\"]])"
   ]
  },
  {
   "cell_type": "code",
   "execution_count": 23,
   "id": "f89c8541-5b83-460c-b543-947e1f1a51f7",
   "metadata": {},
   "outputs": [],
   "source": [
    "def compML(df, y, alg):\n",
    "    # Train-Test Splitting\n",
    "    y = df[y]\n",
    "    X_ = df.drop([\"Salary\", \"League\", \"Division\", \"NewLeague\"], axis=1).astype(\"float64\")\n",
    "    X = pd.concat([X_, dms[[\"League_N\", \"Division_W\", \"NewLeague_N\"]]], axis=1)\n",
    "    X_train, X_test, y_train, y_test = train_test_split(X,\n",
    "                                                        y,\n",
    "                                                        test_size=0.25,\n",
    "                                                        random_state=42)\n",
    "    \n",
    "    # Modelling\n",
    "    model = alg().fit(X_train, y_train)\n",
    "    y_pred = model.predict(X_test)\n",
    "    RMSE = np.sqrt(mean_squared_error(y_test, y_pred))\n",
    "    model_name = alg.__name__\n",
    "    print(model_name, \":\", RMSE)"
   ]
  },
  {
   "cell_type": "code",
   "execution_count": 24,
   "id": "f4f74e82-a02a-43ec-898f-cd61242d4149",
   "metadata": {},
   "outputs": [
    {
     "name": "stdout",
     "output_type": "stream",
     "text": [
      "LGBMRegressor : 363.8712087611089\n"
     ]
    }
   ],
   "source": [
    "compML(df, \"Salary\", LGBMRegressor)"
   ]
  },
  {
   "cell_type": "code",
   "execution_count": 25,
   "id": "9b8b8067-b035-4860-b03c-eb5949925f7f",
   "metadata": {},
   "outputs": [
    {
     "name": "stdout",
     "output_type": "stream",
     "text": [
      "SVR : 460.0032657244849\n"
     ]
    }
   ],
   "source": [
    "compML(df, \"Salary\", SVR)"
   ]
  },
  {
   "cell_type": "code",
   "execution_count": 26,
   "id": "b829e7f5-d123-450e-8d1c-51f3fabb69b6",
   "metadata": {},
   "outputs": [],
   "source": [
    "models = [LGBMRegressor,\n",
    "          XGBRegressor,\n",
    "          GradientBoostingRegressor,\n",
    "          RandomForestRegressor,\n",
    "          DecisionTreeRegressor,\n",
    "          MLPRegressor,\n",
    "          KNeighborsRegressor,\n",
    "          SVR]"
   ]
  },
  {
   "cell_type": "code",
   "execution_count": 28,
   "id": "f4a26074-27f9-4835-bf87-67840c28b6fb",
   "metadata": {},
   "outputs": [
    {
     "name": "stdout",
     "output_type": "stream",
     "text": [
      "LGBMRegressor : 363.8712087611089\n",
      "XGBRegressor : 355.46515176059927\n",
      "GradientBoostingRegressor : 350.8837559811925\n",
      "RandomForestRegressor : 346.7253071126708\n",
      "DecisionTreeRegressor : 468.0624480038897\n",
      "MLPRegressor : 371.97387148453714\n",
      "KNeighborsRegressor : 426.6570764525201\n",
      "SVR : 460.0032657244849\n"
     ]
    }
   ],
   "source": [
    "for i in models:\n",
    "    compML(df, \"Salary\", i)"
   ]
  }
 ],
 "metadata": {
  "kernelspec": {
   "display_name": "Python 3 (ipykernel)",
   "language": "python",
   "name": "python3"
  },
  "language_info": {
   "codemirror_mode": {
    "name": "ipython",
    "version": 3
   },
   "file_extension": ".py",
   "mimetype": "text/x-python",
   "name": "python",
   "nbconvert_exporter": "python",
   "pygments_lexer": "ipython3",
   "version": "3.10.7"
  }
 },
 "nbformat": 4,
 "nbformat_minor": 5
}
