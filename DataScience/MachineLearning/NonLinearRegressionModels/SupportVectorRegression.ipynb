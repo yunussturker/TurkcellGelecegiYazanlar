{
 "cells": [
  {
   "cell_type": "markdown",
   "id": "8f24d646-e556-4c34-a5d6-9035b01698ef",
   "metadata": {},
   "source": [
    "### Support Vector Regression (SVR)\n",
    "##### Güçlü ve esnek modelleme tekniklerinden birisidir.\n",
    "##### Sınıflandırma ve regresyon için kullanılabilir.\n",
    "##### Robust(dayanıklı) bir regresyon modelleme tekniğidir."
   ]
  },
  {
   "cell_type": "markdown",
   "id": "859eea72-f0f4-4a43-ae70-ff02595bba70",
   "metadata": {},
   "source": [
    "#### Amaç; bir marjin aralığına maksimum noktayı en küçük hata ile alabilecek şekilde doğru ya da eğriyi belirlemektir."
   ]
  },
  {
   "cell_type": "code",
   "execution_count": 6,
   "id": "07bb054c-d786-44d0-b72e-6de4085aba9d",
   "metadata": {},
   "outputs": [],
   "source": [
    "import numpy as np\n",
    "import pandas as pd\n",
    "from sklearn.model_selection import train_test_split, GridSearchCV\n",
    "from sklearn.metrics import mean_squared_error, r2_score\n",
    "import matplotlib.pyplot as plt\n",
    "from sklearn.preprocessing import scale\n",
    "from sklearn.preprocessing import StandardScaler\n",
    "from sklearn import model_selection\n",
    "from sklearn.linear_model import LinearRegression\n",
    "from sklearn.tree import DecisionTreeRegressor\n",
    "from sklearn.neighbors import KNeighborsRegressor\n",
    "from sklearn.neural_network import MLPRegressor\n",
    "from sklearn.ensemble import RandomForestRegressor\n",
    "from sklearn.ensemble import GradientBoostingRegressor\n",
    "from sklearn import neighbors\n",
    "from sklearn.svm import SVR"
   ]
  },
  {
   "cell_type": "code",
   "execution_count": 7,
   "id": "b7b9d589-91e9-4975-9149-f8e685e6dca5",
   "metadata": {},
   "outputs": [],
   "source": [
    "df = pd.read_csv(\"Hitters.csv\")\n",
    "df = df.dropna()\n",
    "dms = pd.get_dummies(df[[\"League\", \"Division\", \"NewLeague\"]])\n",
    "y = df[\"Salary\"]\n",
    "X_ = df.drop([\"Salary\", \"League\", \"Division\", \"NewLeague\"], axis=1).astype(\"float64\")\n",
    "X = pd.concat([X_, dms[[\"League_N\", \"Division_W\", \"NewLeague_N\"]]], axis=1)\n",
    "X_train, X_test, y_train, y_test = train_test_split(X,\n",
    "                                                    y,\n",
    "                                                    test_size=0.25,\n",
    "                                                    random_state=42)"
   ]
  },
  {
   "cell_type": "markdown",
   "id": "345b98d7-8de8-44f3-bc88-701e8423eeb1",
   "metadata": {},
   "source": [
    "#### Model & Predict"
   ]
  },
  {
   "cell_type": "markdown",
   "id": "dc521bf6-d9c4-4fa6-bd55-a1fb69f29ecf",
   "metadata": {},
   "source": [
    "#### For Linear"
   ]
  },
  {
   "cell_type": "code",
   "execution_count": 26,
   "id": "8d1950c2-76e5-46ec-a1f7-c488894c744a",
   "metadata": {},
   "outputs": [],
   "source": [
    "svr_model = SVR(kernel=\"linear\").fit(X_train, y_train)"
   ]
  },
  {
   "cell_type": "code",
   "execution_count": 27,
   "id": "a14ec64d-eeb7-4c2d-b5de-f2c085cdde83",
   "metadata": {},
   "outputs": [
    {
     "data": {
      "text/plain": [
       "array([219.32622627, 702.43039317, 623.20559641, 153.77538484,\n",
       "       463.15191157])"
      ]
     },
     "execution_count": 27,
     "metadata": {},
     "output_type": "execute_result"
    }
   ],
   "source": [
    "svr_model.predict(X_train)[0:5]"
   ]
  },
  {
   "cell_type": "code",
   "execution_count": 28,
   "id": "995b8d4b-43a3-45c5-b27e-bc0cccb6ed53",
   "metadata": {
    "jupyter": {
     "source_hidden": true
    },
    "tags": []
   },
   "outputs": [
    {
     "data": {
      "text/plain": [
       "array([679.14754919, 633.72883529, 925.68639938, 270.28464317,\n",
       "       530.26659421])"
      ]
     },
     "execution_count": 28,
     "metadata": {},
     "output_type": "execute_result"
    }
   ],
   "source": [
    "svr_model.predict(X_test)[0:5]"
   ]
  },
  {
   "cell_type": "code",
   "execution_count": 29,
   "id": "162a4501-6a58-4337-b1de-4d1100b159d6",
   "metadata": {},
   "outputs": [
    {
     "data": {
      "text/plain": [
       "array([-80.15196063])"
      ]
     },
     "execution_count": 29,
     "metadata": {},
     "output_type": "execute_result"
    }
   ],
   "source": [
    "svr_model.intercept_"
   ]
  },
  {
   "cell_type": "code",
   "execution_count": 30,
   "id": "833b3082-fcb9-4401-afe5-d2a2dbbd6d6f",
   "metadata": {},
   "outputs": [
    {
     "data": {
      "text/plain": [
       "array([[ -1.2183904 ,   6.09602978,  -3.67574533,   0.14217072,\n",
       "          0.51435925,   1.28388992,  12.55922527,  -0.08693754,\n",
       "          0.46597185,   2.98259931,   0.52944513,  -0.79820793,\n",
       "         -0.16015531,   0.30872795,   0.28842348,  -1.79560066,\n",
       "          6.41868986, -10.74313785,   1.33374319]])"
      ]
     },
     "execution_count": 30,
     "metadata": {},
     "output_type": "execute_result"
    }
   ],
   "source": [
    "svr_model.coef_"
   ]
  },
  {
   "cell_type": "code",
   "execution_count": 31,
   "id": "0b42e408-f7d6-41e8-b6ba-052163121207",
   "metadata": {},
   "outputs": [
    {
     "data": {
      "text/plain": [
       "370.0408415795005"
      ]
     },
     "execution_count": 31,
     "metadata": {},
     "output_type": "execute_result"
    }
   ],
   "source": [
    "# Test Error\n",
    "y_pred = svr_model.predict(X_test)\n",
    "np.sqrt(mean_squared_error(y_test, y_pred))"
   ]
  },
  {
   "cell_type": "markdown",
   "id": "a7e2ed01-e097-4024-b30a-0c1332c7b2d2",
   "metadata": {},
   "source": [
    "##### For NonLinear"
   ]
  },
  {
   "cell_type": "code",
   "execution_count": 24,
   "id": "2735f5dc-28ff-4e0b-8532-8290d169b122",
   "metadata": {},
   "outputs": [],
   "source": [
    "svr_model = SVR(kernel=\"rbf\").fit(X_train, y_train)"
   ]
  },
  {
   "cell_type": "code",
   "execution_count": 25,
   "id": "d1ff3c6b-fa63-482e-95d7-cb4a79496107",
   "metadata": {},
   "outputs": [
    {
     "data": {
      "text/plain": [
       "460.0032657244849"
      ]
     },
     "execution_count": 25,
     "metadata": {},
     "output_type": "execute_result"
    }
   ],
   "source": [
    "# Test Error\n",
    "y_pred = svr_model.predict(X_test)\n",
    "np.sqrt(mean_squared_error(y_test, y_pred))"
   ]
  },
  {
   "cell_type": "markdown",
   "id": "256260c9-df2a-45c7-9642-ea20936179c6",
   "metadata": {},
   "source": [
    "#### Model Tuning"
   ]
  },
  {
   "cell_type": "code",
   "execution_count": 32,
   "id": "3aa3e76c-24a1-4e07-9642-3068d879a248",
   "metadata": {},
   "outputs": [],
   "source": [
    "svr_model = SVR(kernel=\"linear\")"
   ]
  },
  {
   "cell_type": "code",
   "execution_count": 33,
   "id": "46c730dc-2b6e-4932-a803-29bcf0dd8115",
   "metadata": {},
   "outputs": [],
   "source": [
    "svr_params = {\"C\": [0.1, 0.5, 1, 3]}"
   ]
  },
  {
   "cell_type": "code",
   "execution_count": 35,
   "id": "a1e15a1a-8df8-4b27-832b-7c3c581a7004",
   "metadata": {},
   "outputs": [],
   "source": [
    "svr_cv_model = GridSearchCV(svr_model, svr_params, cv=5).fit(X_train, y_train)"
   ]
  },
  {
   "cell_type": "code",
   "execution_count": 36,
   "id": "801069ba-328f-46bf-be4c-a9b98e79ac0b",
   "metadata": {},
   "outputs": [
    {
     "data": {
      "text/plain": [
       "{'C': 0.5}"
      ]
     },
     "execution_count": 36,
     "metadata": {},
     "output_type": "execute_result"
    }
   ],
   "source": [
    "svr_cv_model.best_params_"
   ]
  },
  {
   "cell_type": "code",
   "execution_count": 37,
   "id": "b94781de-3d03-4106-83fa-2da57f50251f",
   "metadata": {},
   "outputs": [
    {
     "name": "stdout",
     "output_type": "stream",
     "text": [
      "Fitting 5 folds for each of 4 candidates, totalling 20 fits\n"
     ]
    }
   ],
   "source": [
    "svr_cv_model = GridSearchCV(svr_model, svr_params, cv=5, verbose=2, n_jobs=-1).fit(X_train, y_train)"
   ]
  },
  {
   "cell_type": "code",
   "execution_count": 38,
   "id": "704b5fdf-fbf1-4932-8cf1-cd99d0782b09",
   "metadata": {},
   "outputs": [
    {
     "data": {
      "text/plain": [
       "{'C': 0.5}"
      ]
     },
     "execution_count": 38,
     "metadata": {},
     "output_type": "execute_result"
    }
   ],
   "source": [
    "svr_cv_model.best_params_"
   ]
  },
  {
   "cell_type": "code",
   "execution_count": 40,
   "id": "8d96e14c-5bee-4c2d-8f03-023f22adf190",
   "metadata": {},
   "outputs": [],
   "source": [
    "svr_tuned = SVR(kernel=\"linear\", C=0.5).fit(X_train, y_train)"
   ]
  },
  {
   "cell_type": "code",
   "execution_count": 41,
   "id": "ce952b4f-9d2a-49cd-bdab-51412cf5a75d",
   "metadata": {},
   "outputs": [],
   "source": [
    "y_pred = svr_tuned.predict(X_test)"
   ]
  },
  {
   "cell_type": "code",
   "execution_count": 43,
   "id": "070bf972-f200-491f-a110-19686e86ef6a",
   "metadata": {},
   "outputs": [
    {
     "data": {
      "text/plain": [
       "367.98747616655294"
      ]
     },
     "execution_count": 43,
     "metadata": {},
     "output_type": "execute_result"
    }
   ],
   "source": [
    "# Test Error\n",
    "np.sqrt(mean_squared_error(y_test, y_pred))"
   ]
  }
 ],
 "metadata": {
  "kernelspec": {
   "display_name": "Python 3 (ipykernel)",
   "language": "python",
   "name": "python3"
  },
  "language_info": {
   "codemirror_mode": {
    "name": "ipython",
    "version": 3
   },
   "file_extension": ".py",
   "mimetype": "text/x-python",
   "name": "python",
   "nbconvert_exporter": "python",
   "pygments_lexer": "ipython3",
   "version": "3.10.7"
  }
 },
 "nbformat": 4,
 "nbformat_minor": 5
}
