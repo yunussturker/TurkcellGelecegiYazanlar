{
 "cells": [
  {
   "cell_type": "markdown",
   "id": "b187c479-9c19-4410-bede-27315588dfe5",
   "metadata": {},
   "source": [
    "### Gradient Boosting Machines (GBM)\n",
    "#### Amaç, hata kareler ortalamasını minimum yapacak katsayılar ya da karar kuralları bulmaktır.\n",
    "##### AdaBoost'un sınıflandırma ve regresyon problemlerine kolayca uygulanabilen geliştirilmiş versiyonudur.\n",
    "##### Hatalar üzerine tek bir tahminsel model formunda olan modeller serisi kurulur."
   ]
  },
  {
   "cell_type": "markdown",
   "id": "896c0d90-bccb-45f2-ae8c-6f8b1d7a28a9",
   "metadata": {},
   "source": [
    "#### Boosting Yöntemlerine Giriş\n",
    "###### Zayıf öğrenicileri bir araya getirip güçlü bir öğrenici ortaya çıkarmak fikrine dayanır.\n",
    "##### Adaptive Boosting (AdaBoost)\n",
    "###### Zayıf sınıflandırıcıların bir araya gelerek güçlü bir sınıflandırıcı oluşturma fikrini hayata geçiren algoritmadır."
   ]
  },
  {
   "cell_type": "markdown",
   "id": "ce650b2a-4b5b-4aa5-93de-65e0b702cc44",
   "metadata": {},
   "source": [
    "#### Gradient boosting tek bir tahminsel model formunda olan modeller serisi oluşturur.\n",
    "#### Seri içerisindeki bir model serideki bir önceki modelin tahmin hatalarının(residuals) üzerinde kurularak(fit) oluşturulur.\n",
    "#### GBM, diferansitellenebilen herhangi bir kayıp fonksiyonu optimize edebilen Gradient Descent algoritmasını kullanmaktadır.\n",
    "#### GB, bir çok temel öğrenici tipi(base learner type) kullanabilir. (Trees, linear terms, splines,..)\n",
    "#### Cost fonksiyonları ve link fonksiyonları modifiye edilebilirdir.\n",
    "#### GBM = Boosting + Gradient Descent"
   ]
  },
  {
   "cell_type": "code",
   "execution_count": 1,
   "id": "de3bb080-3341-4c08-9733-aa3643997d06",
   "metadata": {},
   "outputs": [],
   "source": [
    "import numpy as np\n",
    "import pandas as pd\n",
    "from sklearn.model_selection import train_test_split, GridSearchCV\n",
    "from sklearn.metrics import mean_squared_error, r2_score\n",
    "import matplotlib.pyplot as plt\n",
    "from sklearn.preprocessing import scale\n",
    "from sklearn.preprocessing import StandardScaler\n",
    "from sklearn import model_selection\n",
    "from sklearn.linear_model import LinearRegression\n",
    "from sklearn.tree import DecisionTreeRegressor\n",
    "from sklearn.neighbors import KNeighborsRegressor\n",
    "from sklearn.neural_network import MLPRegressor\n",
    "from sklearn.ensemble import RandomForestRegressor\n",
    "from sklearn.ensemble import GradientBoostingRegressor\n",
    "from sklearn import neighbors\n",
    "from sklearn.svm import SVR"
   ]
  },
  {
   "cell_type": "code",
   "execution_count": 2,
   "id": "1959a62c-c121-4c61-9c26-1d5e2a7bef51",
   "metadata": {},
   "outputs": [],
   "source": [
    "import warnings \n",
    "warnings.filterwarnings('ignore')"
   ]
  },
  {
   "cell_type": "code",
   "execution_count": 3,
   "id": "f3e86e21-f897-4496-ab53-9e45ff986f71",
   "metadata": {},
   "outputs": [],
   "source": [
    "df = pd.read_csv(\"Hitters.csv\")\n",
    "df = df.dropna()\n",
    "dms = pd.get_dummies(df[[\"League\", \"Division\", \"NewLeague\"]])\n",
    "y = df[\"Salary\"]\n",
    "X_ = df.drop([\"Salary\", \"League\", \"Division\", \"NewLeague\"], axis=1).astype(\"float64\")\n",
    "X = pd.concat([X_, dms[[\"League_N\", \"Division_W\", \"NewLeague_N\"]]], axis=1)\n",
    "X_train, X_test, y_train, y_test = train_test_split(X,\n",
    "                                                    y,\n",
    "                                                    test_size=0.25,\n",
    "                                                    random_state=42)"
   ]
  },
  {
   "cell_type": "markdown",
   "id": "76745da4-d86a-432b-b2ff-4580c5648bd5",
   "metadata": {},
   "source": [
    "#### Model & Prediction"
   ]
  },
  {
   "cell_type": "code",
   "execution_count": 4,
   "id": "63d266ba-23d3-467d-986c-aca577633777",
   "metadata": {},
   "outputs": [],
   "source": [
    "gbm_model = GradientBoostingRegressor().fit(X_train, y_train)"
   ]
  },
  {
   "cell_type": "code",
   "execution_count": 5,
   "id": "5e514a4f-17d0-4aa8-ad9e-66833684607a",
   "metadata": {},
   "outputs": [],
   "source": [
    "y_pred = gbm_model.predict(X_test)"
   ]
  },
  {
   "cell_type": "code",
   "execution_count": 6,
   "id": "5469f1e3-61ab-408f-8953-bcbe4de71869",
   "metadata": {},
   "outputs": [
    {
     "data": {
      "text/plain": [
       "353.126370958669"
      ]
     },
     "execution_count": 6,
     "metadata": {},
     "output_type": "execute_result"
    }
   ],
   "source": [
    "np.sqrt(mean_squared_error(y_test, y_pred))"
   ]
  },
  {
   "cell_type": "markdown",
   "id": "b86ca009-5439-4b08-803a-5fda7b164595",
   "metadata": {},
   "source": [
    "#### Model Tuning"
   ]
  },
  {
   "cell_type": "markdown",
   "id": "f46fd2c0-5742-4da2-967a-5773a38d0076",
   "metadata": {},
   "source": [
    "###### criterion=\"friedman_mse\" (Bölünmelerle ilgili saflık ölçüsünü ifade etmektedir.)\n",
    "###### learning_rate=0.1 (Ağaçların katkısı ile ilgili göz önünde bulundurulan değerdir.)\n",
    "###### loss=\"ls\" (Kayıp fonksiyondur, ls ise en küçük karelerdir.)\n",
    "###### max_depth=3 (Ağacın derinliğini ifade etmektedir.)\n",
    "###### max_features=None (Göz önünde bulundurulacak değişken sayısını ifade etmektedir.)\n",
    "###### max_leaf_nodes=None (Maksimum yaprak sayısını ifade etmektedir.)\n",
    "###### n_estimators=100 (Kullanılacak olan ağaç sayısını ifade etmektedir.)\n",
    "###### subsample=1.0 (Oluşturulacak olan ağaçları oluştururken göz önünde bulundurulacak olan oranı ifade etmektedir, 1 hepsi anlamına gelir.)"
   ]
  },
  {
   "cell_type": "code",
   "execution_count": 7,
   "id": "b1cafaa4-a147-44e4-898e-9bb613e234a6",
   "metadata": {},
   "outputs": [],
   "source": [
    "gbm_params = {\"learning_rate\": [0.001,0.1,0.01],\n",
    "              \"max_depth\": [3,5,8],\n",
    "              \"n_estimators\": [100,200,500],\n",
    "              \"subsample\": [1,0.5,0.8],\n",
    "              \"loss\": [\"ls\", \"lad\", \"quantile\"]}"
   ]
  },
  {
   "cell_type": "code",
   "execution_count": 9,
   "id": "ce759ace-176b-445e-8403-89063c42b1de",
   "metadata": {},
   "outputs": [],
   "source": [
    "gbm_model = GradientBoostingRegressor().fit(X_train, y_train)"
   ]
  },
  {
   "cell_type": "code",
   "execution_count": 10,
   "id": "ebaf1ecb-fc7f-489f-ad0c-b7f414e4fdf2",
   "metadata": {},
   "outputs": [
    {
     "name": "stdout",
     "output_type": "stream",
     "text": [
      "Fitting 10 folds for each of 243 candidates, totalling 2430 fits\n"
     ]
    }
   ],
   "source": [
    "gbm_cv_model = GridSearchCV(gbm_model, gbm_params, cv=10, n_jobs=-1, verbose=2).fit(X_train, y_train)"
   ]
  },
  {
   "cell_type": "code",
   "execution_count": 11,
   "id": "f8c2f23a-e912-4a2d-bfb6-60e7e3308eac",
   "metadata": {},
   "outputs": [
    {
     "data": {
      "text/plain": [
       "{'learning_rate': 0.01,\n",
       " 'loss': 'lad',\n",
       " 'max_depth': 3,\n",
       " 'n_estimators': 500,\n",
       " 'subsample': 0.5}"
      ]
     },
     "execution_count": 11,
     "metadata": {},
     "output_type": "execute_result"
    }
   ],
   "source": [
    "gbm_cv_model.best_params_"
   ]
  },
  {
   "cell_type": "code",
   "execution_count": 15,
   "id": "8463004f-fc95-4abc-a8a1-8ff7cd2d297a",
   "metadata": {},
   "outputs": [],
   "source": [
    "gbm_tuned = GradientBoostingRegressor(learning_rate=0.01,\n",
    "                                      loss=\"lad\",\n",
    "                                      max_depth=3,\n",
    "                                      n_estimators=500,\n",
    "                                      subsample=0.5).fit(X_train, y_train)"
   ]
  },
  {
   "cell_type": "code",
   "execution_count": 16,
   "id": "809918d7-5e6d-4d6d-8824-c7d29ef89c83",
   "metadata": {},
   "outputs": [],
   "source": [
    "y_pred = gbm_tuned.predict(X_test)"
   ]
  },
  {
   "cell_type": "code",
   "execution_count": 17,
   "id": "0620d217-a417-4849-90d2-bd4c8225d9ba",
   "metadata": {},
   "outputs": [
    {
     "data": {
      "text/plain": [
       "329.4997608800517"
      ]
     },
     "execution_count": 17,
     "metadata": {},
     "output_type": "execute_result"
    }
   ],
   "source": [
    "np.sqrt(mean_squared_error(y_test, y_pred))"
   ]
  },
  {
   "cell_type": "code",
   "execution_count": 22,
   "id": "6bd039d8-92e5-4e4a-a5f6-222eae5f10e2",
   "metadata": {},
   "outputs": [
    {
     "data": {
      "image/png": "[encoded data removed]",
      "text/plain": [
       "<Figure size 640x480 with 1 Axes>"
      ]
     },
     "metadata": {},
     "output_type": "display_data"
    }
   ],
   "source": [
    "# Variable Importance Level\n",
    "Importance = pd.DataFrame({\"Importance\": gbm_tuned.feature_importances_*100},\n",
    "                          index = X_train.columns)\n",
    "Importance.sort_values(by = \"Importance\",\n",
    "                       axis = 0,\n",
    "                       ascending = True).plot(kind = \"barh\", color = \"r\")\n",
    "plt.xlabel(\"Variable Importance\")\n",
    "plt.gca().legend_ = None"
   ]
  }
 ],
 "metadata": {
  "kernelspec": {
   "display_name": "Python 3 (ipykernel)",
   "language": "python",
   "name": "python3"
  },
  "language_info": {
   "codemirror_mode": {
    "name": "ipython",
    "version": 3
   },
   "file_extension": ".py",
   "mimetype": "text/x-python",
   "name": "python",
   "nbconvert_exporter": "python",
   "pygments_lexer": "ipython3",
   "version": "3.10.7"
  }
 },
 "nbformat": 4,
 "nbformat_minor": 5
}
