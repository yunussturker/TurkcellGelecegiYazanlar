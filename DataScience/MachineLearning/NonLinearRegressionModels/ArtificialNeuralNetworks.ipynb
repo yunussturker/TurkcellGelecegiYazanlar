{
 "cells": [
  {
   "cell_type": "markdown",
   "id": "70eecb8c-3f4e-41c6-97e9-2ef74a580710",
   "metadata": {},
   "source": [
    "### Artificial Neural Networks (ANN)\n",
    "##### İnsan beyninin bilgi işleme şeklini referans alan sınıflandırma ve regresyon problemleri için kullanılabilen kuvvetli makne öğrenmesi algoritmalarından birisidir.\n",
    "#### Amaç; en küçük hata ile tahmin yapabilecek katsayılara erişmektir."
   ]
  },
  {
   "cell_type": "markdown",
   "id": "dca428db-eb7d-4de0-842f-d1a30cb48de6",
   "metadata": {},
   "source": [
    "###### Örnek veri seti toplanır.\n",
    "###### Ağın topolojik yapısına karar verilir.\n",
    "###### Ağda bulunan ağırlıklara başlangıç değeri atanır.\n",
    "###### Örnek veri seti ağa sunulur.\n",
    "###### İleri hesaplama işlemleri yapılır.\n",
    "###### Gerçek çıktılar ile tahmin çıktıları karşılaştırılır. Öğrenmenin tamamlanması basamakları gerçekleştirilir."
   ]
  },
  {
   "cell_type": "code",
   "execution_count": 1,
   "id": "d23131e5-c7f5-45f9-bde5-9db6c4d2179b",
   "metadata": {},
   "outputs": [],
   "source": [
    "import numpy as np\n",
    "import pandas as pd\n",
    "from sklearn.model_selection import train_test_split, GridSearchCV\n",
    "from sklearn.metrics import mean_squared_error, r2_score\n",
    "import matplotlib.pyplot as plt\n",
    "from sklearn.preprocessing import scale\n",
    "from sklearn.preprocessing import StandardScaler\n",
    "from sklearn import model_selection\n",
    "from sklearn.linear_model import LinearRegression\n",
    "from sklearn.tree import DecisionTreeRegressor\n",
    "from sklearn.neighbors import KNeighborsRegressor\n",
    "from sklearn.neural_network import MLPRegressor\n",
    "from sklearn.ensemble import RandomForestRegressor\n",
    "from sklearn.ensemble import GradientBoostingRegressor\n",
    "from sklearn import neighbors\n",
    "from sklearn.svm import SVR"
   ]
  },
  {
   "cell_type": "code",
   "execution_count": 2,
   "id": "79699288-1039-4671-b510-c89f1f701e02",
   "metadata": {},
   "outputs": [],
   "source": [
    "import warnings \n",
    "warnings.filterwarnings('ignore')"
   ]
  },
  {
   "cell_type": "code",
   "execution_count": 3,
   "id": "722252d1-ed5b-48ac-b663-11257103ef20",
   "metadata": {},
   "outputs": [],
   "source": [
    "df = pd.read_csv(\"Hitters.csv\")\n",
    "df = df.dropna()\n",
    "dms = pd.get_dummies(df[[\"League\", \"Division\", \"NewLeague\"]])\n",
    "y = df[\"Salary\"]\n",
    "X_ = df.drop([\"Salary\", \"League\", \"Division\", \"NewLeague\"], axis=1).astype(\"float64\")\n",
    "X = pd.concat([X_, dms[[\"League_N\", \"Division_W\", \"NewLeague_N\"]]], axis=1)\n",
    "X_train, X_test, y_train, y_test = train_test_split(X,\n",
    "                                                    y,\n",
    "                                                    test_size=0.25,\n",
    "                                                    random_state=42)"
   ]
  },
  {
   "cell_type": "markdown",
   "id": "7ea92a06-7c7b-430b-9b28-ded43def8903",
   "metadata": {},
   "source": [
    "#### Model & Predict"
   ]
  },
  {
   "cell_type": "code",
   "execution_count": 4,
   "id": "eacdc516-707c-4083-b13b-967c0fdf999b",
   "metadata": {},
   "outputs": [],
   "source": [
    "scaler = StandardScaler()"
   ]
  },
  {
   "cell_type": "code",
   "execution_count": 6,
   "id": "a7f1a3de-5f8c-4680-85c0-2d9de7c9bd34",
   "metadata": {},
   "outputs": [],
   "source": [
    "scaler.fit(X_train)\n",
    "X_train_scaled = scaler.transform(X_train)"
   ]
  },
  {
   "cell_type": "code",
   "execution_count": 7,
   "id": "3b4e293e-9797-422f-8c79-bcf463a6b9ea",
   "metadata": {},
   "outputs": [],
   "source": [
    "X_test_scaled = scaler.transform(X_test)"
   ]
  },
  {
   "cell_type": "code",
   "execution_count": 10,
   "id": "3c9f2153-ed0f-4e67-b9cd-89ec0bf59857",
   "metadata": {},
   "outputs": [],
   "source": [
    "mlp_model = MLPRegressor().fit(X_train_scaled, y_train)"
   ]
  },
  {
   "cell_type": "code",
   "execution_count": 11,
   "id": "df73a884-62ef-470e-b607-7ef403614532",
   "metadata": {},
   "outputs": [
    {
     "data": {
      "text/plain": [
       "array([22.00493426, 38.44912804, 70.18213226, 11.44427625, 18.9095362 ])"
      ]
     },
     "execution_count": 11,
     "metadata": {},
     "output_type": "execute_result"
    }
   ],
   "source": [
    "mlp_model.predict(X_test_scaled)[0:5]"
   ]
  },
  {
   "cell_type": "code",
   "execution_count": 14,
   "id": "b4012436-9556-4b4e-ac46-ce64621b2cae",
   "metadata": {},
   "outputs": [],
   "source": [
    "y_pred = mlp_model.predict(X_test_scaled)"
   ]
  },
  {
   "cell_type": "code",
   "execution_count": 15,
   "id": "50bee9a3-c8c1-42aa-9db4-5f471393b96a",
   "metadata": {},
   "outputs": [
    {
     "data": {
      "text/plain": [
       "661.4469745183985"
      ]
     },
     "execution_count": 15,
     "metadata": {},
     "output_type": "execute_result"
    }
   ],
   "source": [
    "np.sqrt(mean_squared_error(y_test, y_pred))"
   ]
  },
  {
   "cell_type": "markdown",
   "id": "0d9d2deb-818a-4eb4-aa02-5b9f51303137",
   "metadata": {},
   "source": [
    "#### Model Tuning"
   ]
  },
  {
   "cell_type": "code",
   "execution_count": 17,
   "id": "52f69d4a-e69b-4c41-91d7-62a6ede2120d",
   "metadata": {},
   "outputs": [],
   "source": [
    "mlp_params = {\"alpha\": [0.1, 0.01, 0.02, 0.001, 0.0001], \n",
    "              \"hidden_layer_sizes\": [(10,20), (5,5), (100,100)]}"
   ]
  },
  {
   "cell_type": "code",
   "execution_count": 28,
   "id": "1b2c9f07-1e9c-4da8-82ea-869951f08a87",
   "metadata": {},
   "outputs": [
    {
     "name": "stdout",
     "output_type": "stream",
     "text": [
      "Fitting 10 folds for each of 15 candidates, totalling 150 fits\n"
     ]
    }
   ],
   "source": [
    "mlp_cv_model = GridSearchCV(mlp_model, mlp_params, cv=10, verbose=2, n_jobs=-1).fit(X_train_scaled, y_train)"
   ]
  },
  {
   "cell_type": "code",
   "execution_count": 30,
   "id": "3e99c1b0-8ca2-4124-8ad8-394950df474c",
   "metadata": {},
   "outputs": [
    {
     "data": {
      "text/plain": [
       "{'alpha': 0.1, 'hidden_layer_sizes': (100, 100)}"
      ]
     },
     "execution_count": 30,
     "metadata": {},
     "output_type": "execute_result"
    }
   ],
   "source": [
    "mlp_cv_model.best_params_"
   ]
  },
  {
   "cell_type": "code",
   "execution_count": 31,
   "id": "e01d5287-dd61-4818-ae24-a96db72dd4e1",
   "metadata": {},
   "outputs": [],
   "source": [
    "# Final Model\n",
    "mlp_tuned = MLPRegressor(alpha=0.01, hidden_layer_sizes=(100,100)).fit(X_train_scaled, y_train)"
   ]
  },
  {
   "cell_type": "code",
   "execution_count": 32,
   "id": "de011d47-e4b2-4ec5-bc08-b56abc29d0e9",
   "metadata": {},
   "outputs": [],
   "source": [
    "y_pred = mlp_tuned.predict(X_test_scaled)"
   ]
  },
  {
   "cell_type": "code",
   "execution_count": 33,
   "id": "de854d9f-e0ab-4864-b70a-2c1216571d25",
   "metadata": {},
   "outputs": [
    {
     "data": {
      "text/plain": [
       "355.64001242504986"
      ]
     },
     "execution_count": 33,
     "metadata": {},
     "output_type": "execute_result"
    }
   ],
   "source": [
    "np.sqrt(mean_squared_error(y_test, y_pred))"
   ]
  }
 ],
 "metadata": {
  "kernelspec": {
   "display_name": "Python 3 (ipykernel)",
   "language": "python",
   "name": "python3"
  },
  "language_info": {
   "codemirror_mode": {
    "name": "ipython",
    "version": 3
   },
   "file_extension": ".py",
   "mimetype": "text/x-python",
   "name": "python",
   "nbconvert_exporter": "python",
   "pygments_lexer": "ipython3",
   "version": "3.10.7"
  }
 },
 "nbformat": 4,
 "nbformat_minor": 5
}
