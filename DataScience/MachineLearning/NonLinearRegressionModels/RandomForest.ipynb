{
 "cells": [
  {
   "cell_type": "markdown",
   "id": "d3b6a797-5c95-416d-986e-afe450dbb9f0",
   "metadata": {},
   "source": [
    "### Random Forest\n",
    "##### Topluluk öğrenme yöntemleri; birden fazla algoritmanın ya da birden fazla ağacın bir araya gelerek toplu bir şekilde öğrenmesi ve tahmin etmeye çalışmasıdır.\n",
    "\n",
    "#### Bagging\n",
    "##### Temeli bootstrap yöntemi ile oluşturulan birden fazla karar ağacının ürettiği tahminlerin bir araya getirilerek değerlendirilmesine dayanır.\n",
    "###### Çalışma prensibinin kilit noktası, bootstrap rastgele örnekleme yöntemidir.\n",
    "###### Bootstrap rastgele örnekleme yöntemi, gözlem birimlerinin içinden yerine koymalı bir şekilde tekrar tekrar örnek çekmek demektir.\n",
    "##### Bagging Yöntemi;\n",
    "###### Hata kareler ortalamasının karekökü değerini düşürür.\n",
    "###### Doğru sınıflandırma oranını arttırır.\n",
    "###### Varyansı düşürür ve ezberlemeye karşı dayanıklıdır."
   ]
  },
  {
   "cell_type": "markdown",
   "id": "4c228e35-febe-4b25-9424-8e90c458ee4c",
   "metadata": {},
   "source": [
    "##### Random Forest temeli; birden çok karar ağacının ürettiği tahminlerin bir araya getirilerek değerlendirilmesine dayanır.\n",
    "##### Bagging ile Random Subspace yöntemlerinin birleşimi ile oluşmuştur.\n",
    "###### Bagging(Bootstrap Aggregating): Rastgele örneklemler çekip, bu örneklemlerin her birine model kurup, bunları bir araya getirme yöntemidir.\n",
    "###### Random Subspace: Bir değişken seti içerisinden rastgele değişken seçme yöntemidir.\n",
    "##### Ağaçlar için gözlemler bootstrap rastgele örneklem seçim yöntemi ile, değişkenler random subspace yöntemi ile seçilir.\n",
    "##### Karar ağaının her bir düğümünde en iyi dallara ayrıcı(bilgi kazancı) değişken, tüm değişkenler arasından rastgele seçilen daha az sayıdaki değişken arasından seçilir.\n",
    "##### Ağaç oluşturmada veri setinin 2/3'ü kullanılır. Dışarıda kalan ağaçların performans değerlendirmesi ve değişken öneminin belirlenmesi için kullanılır.\n",
    "##### Her düğüm noktasında rastgele değişken seçimi yapılır.(regresyonda p/3, sınıflandırmada karekçk p)"
   ]
  },
  {
   "cell_type": "code",
   "execution_count": 1,
   "id": "a9f8a463-85a8-4bfb-a958-ee807ec27cef",
   "metadata": {},
   "outputs": [],
   "source": [
    "import numpy as np\n",
    "import pandas as pd\n",
    "from sklearn.model_selection import train_test_split, GridSearchCV\n",
    "from sklearn.metrics import mean_squared_error, r2_score\n",
    "import matplotlib.pyplot as plt\n",
    "from sklearn.preprocessing import scale\n",
    "from sklearn.preprocessing import StandardScaler\n",
    "from sklearn import model_selection\n",
    "from sklearn.linear_model import LinearRegression\n",
    "from sklearn.tree import DecisionTreeRegressor\n",
    "from sklearn.neighbors import KNeighborsRegressor\n",
    "from sklearn.neural_network import MLPRegressor\n",
    "from sklearn.ensemble import RandomForestRegressor\n",
    "from sklearn.ensemble import GradientBoostingRegressor\n",
    "from sklearn import neighbors\n",
    "from sklearn.svm import SVR"
   ]
  },
  {
   "cell_type": "code",
   "execution_count": 2,
   "id": "1af37e1b-477a-4f6a-9331-b28cd33fe2a7",
   "metadata": {},
   "outputs": [],
   "source": [
    "import warnings \n",
    "warnings.filterwarnings('ignore')"
   ]
  },
  {
   "cell_type": "code",
   "execution_count": 3,
   "id": "a9d8480e-a3db-428c-b91d-602124bc8eea",
   "metadata": {},
   "outputs": [],
   "source": [
    "df = pd.read_csv(\"Hitters.csv\")\n",
    "df = df.dropna()\n",
    "dms = pd.get_dummies(df[[\"League\", \"Division\", \"NewLeague\"]])\n",
    "y = df[\"Salary\"]\n",
    "X_ = df.drop([\"Salary\", \"League\", \"Division\", \"NewLeague\"], axis=1).astype(\"float64\")\n",
    "X = pd.concat([X_, dms[[\"League_N\", \"Division_W\", \"NewLeague_N\"]]], axis=1)\n",
    "X_train, X_test, y_train, y_test = train_test_split(X,\n",
    "                                                    y,\n",
    "                                                    test_size=0.25,\n",
    "                                                    random_state=42)"
   ]
  },
  {
   "cell_type": "markdown",
   "id": "95074e54-5ce4-4da8-af2b-fd75ba1af9fb",
   "metadata": {},
   "source": [
    "#### Model & Prediction"
   ]
  },
  {
   "cell_type": "code",
   "execution_count": 7,
   "id": "c8b0cc22-77b4-4b9c-b184-3946e68c622c",
   "metadata": {},
   "outputs": [],
   "source": [
    "rf_model = RandomForestRegressor(random_state=42).fit(X_train, y_train)"
   ]
  },
  {
   "cell_type": "code",
   "execution_count": 8,
   "id": "c101dc99-29f3-4b43-91d2-5c0ecb99f4d6",
   "metadata": {},
   "outputs": [
    {
     "data": {
      "text/plain": [
       "344.8191624908484"
      ]
     },
     "execution_count": 8,
     "metadata": {},
     "output_type": "execute_result"
    }
   ],
   "source": [
    "y_pred = rf_model.predict(X_test)\n",
    "np.sqrt(mean_squared_error(y_test, y_pred))"
   ]
  },
  {
   "cell_type": "code",
   "execution_count": 21,
   "id": "b1471a44-d6fd-4958-8011-9ec088518913",
   "metadata": {},
   "outputs": [],
   "source": [
    "rf_params = {\"max_depth\": [6, 8],\n",
    "             \"max_features\": [2, 8],\n",
    "             \"n_estimators\": [200, 400, 1200],\n",
    "             \"min_samples_split\": [2, 50]}"
   ]
  },
  {
   "cell_type": "code",
   "execution_count": 22,
   "id": "18c0a929-5281-4d79-ac32-a4d5c4f21607",
   "metadata": {},
   "outputs": [
    {
     "name": "stdout",
     "output_type": "stream",
     "text": [
      "Fitting 10 folds for each of 24 candidates, totalling 240 fits\n"
     ]
    }
   ],
   "source": [
    "rf_cv_model = GridSearchCV(rf_model, rf_params, cv=10, n_jobs=-1, verbose=2).fit(X_train, y_train)"
   ]
  },
  {
   "cell_type": "code",
   "execution_count": 23,
   "id": "3cae9da3-cc94-433e-8764-a60260f3b48d",
   "metadata": {},
   "outputs": [
    {
     "data": {
      "text/plain": [
       "{'max_depth': 8,\n",
       " 'max_features': 2,\n",
       " 'min_samples_split': 2,\n",
       " 'n_estimators': 200}"
      ]
     },
     "execution_count": 23,
     "metadata": {},
     "output_type": "execute_result"
    }
   ],
   "source": [
    "rf_cv_model.best_params_"
   ]
  },
  {
   "cell_type": "code",
   "execution_count": 24,
   "id": "477c0ee7-96c3-499b-8ea8-71027b0d5572",
   "metadata": {},
   "outputs": [],
   "source": [
    "rf_model = RandomForestRegressor(random_state = 42,\n",
    "                                 max_depth = 8,\n",
    "                                 max_features = 2,\n",
    "                                 min_samples_split = 2,\n",
    "                                 n_estimators = 200)\n",
    "rf_tuned = rf_model.fit(X_train, y_train)"
   ]
  },
  {
   "cell_type": "code",
   "execution_count": 26,
   "id": "4fafaa9a-7520-47a1-95d1-3047c6961976",
   "metadata": {},
   "outputs": [
    {
     "data": {
      "text/plain": [
       "349.1649379391149"
      ]
     },
     "execution_count": 26,
     "metadata": {},
     "output_type": "execute_result"
    }
   ],
   "source": [
    "y_pred = rf_tuned.predict(X_test)\n",
    "np.sqrt(mean_squared_error(y_test, y_pred))"
   ]
  },
  {
   "cell_type": "markdown",
   "id": "bd555a1b-377f-4b33-8565-63ed85cf9f19",
   "metadata": {},
   "source": [
    "#### Variable Importance Level"
   ]
  },
  {
   "cell_type": "code",
   "execution_count": 29,
   "id": "a6451fab-8dd8-46e6-9e9c-963297cc6b54",
   "metadata": {},
   "outputs": [
    {
     "data": {
      "image/png": "[encoded data removed]",
      "text/plain": [
       "<Figure size 640x480 with 1 Axes>"
      ]
     },
     "metadata": {},
     "output_type": "display_data"
    }
   ],
   "source": [
    "Importance = pd.DataFrame({\"Importance\": rf_tuned.feature_importances_*100},\n",
    "                          index = X_train.columns)\n",
    "Importance.sort_values(by = \"Importance\",\n",
    "                       axis = 0,\n",
    "                       ascending = True).plot(kind = \"barh\", color = \"r\")\n",
    "plt.xlabel(\"Variance Importance\")\n",
    "plt.gca().legend_ = None"
   ]
  }
 ],
 "metadata": {
  "kernelspec": {
   "display_name": "Python 3 (ipykernel)",
   "language": "python",
   "name": "python3"
  },
  "language_info": {
   "codemirror_mode": {
    "name": "ipython",
    "version": 3
   },
   "file_extension": ".py",
   "mimetype": "text/x-python",
   "name": "python",
   "nbconvert_exporter": "python",
   "pygments_lexer": "ipython3",
   "version": "3.10.7"
  }
 },
 "nbformat": 4,
 "nbformat_minor": 5
}
